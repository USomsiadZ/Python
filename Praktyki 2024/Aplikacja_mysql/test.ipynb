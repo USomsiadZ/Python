{
 "cells": [
  {
   "cell_type": "code",
   "execution_count": 18,
   "metadata": {},
   "outputs": [
    {
     "name": "stdout",
     "output_type": "stream",
     "text": [
      "dict_items([('left', '123')])\n",
      "('sadasd', 'asd')\n",
      "123\n",
      "left == 123\n"
     ]
    }
   ],
   "source": [
    "\n",
    "def myFun(*arg, **kwargs):\n",
    "    print(kwargs.items())\n",
    "    print(arg)\n",
    "    for key,value in kwargs.items():\n",
    "        print(\"%s == %s\" % (key,value))\n",
    "\n",
    "# Driver code\n",
    "myFun('sadasd','asd',left = '123')"
   ]
  },
  {
   "cell_type": "code",
   "execution_count": 22,
   "metadata": {},
   "outputs": [
    {
     "name": "stdout",
     "output_type": "stream",
     "text": [
      "a\n"
     ]
    }
   ],
   "source": [
    "numer = 12312312\n",
    "if not len(str(numer)) == 9:\n",
    "    print('a')\n"
   ]
  }
 ],
 "metadata": {
  "kernelspec": {
   "display_name": "Python 3",
   "language": "python",
   "name": "python3"
  },
  "language_info": {
   "codemirror_mode": {
    "name": "ipython",
    "version": 3
   },
   "file_extension": ".py",
   "mimetype": "text/x-python",
   "name": "python",
   "nbconvert_exporter": "python",
   "pygments_lexer": "ipython3",
   "version": "3.9.13"
  }
 },
 "nbformat": 4,
 "nbformat_minor": 2
}
