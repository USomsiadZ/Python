{
 "cells": [
  {
   "cell_type": "code",
   "execution_count": null,
   "metadata": {},
   "outputs": [],
   "source": [
    "import tkinter as tk\n",
    "import json\n",
    "root = tk.Tk()\n",
    "root.geometry(\"800x600\")\n",
    "root.title(\"Menu\")\n",
    "\n",
    "class Menu:\n",
    "    pass\n",
    "root.mainloop()"
   ]
  },
  {
   "cell_type": "code",
   "execution_count": 3,
   "metadata": {},
   "outputs": [
    {
     "name": "stdout",
     "output_type": "stream",
     "text": [
      "1\n",
      "2\n",
      "2\n",
      "3\n"
     ]
    }
   ],
   "source": [
    "class Menu:\n",
    "    def __init__(self,item):\n",
    "        self.item = item\n",
    "    def pack(self):\n",
    "        for item in self.item:\n",
    "            item()\n",
    "\n",
    "menu_data = [lambda :print('1'),lambda: print('2')]\n",
    "menu_data2 = [lambda :print('3'),lambda: print('4')]\n",
    "\n",
    "menu = Menu(menu_data)\n",
    "menu2 = Menu(menu_data2)\n",
    "menu.pack()\n",
    "menu2.pack()\n",
    "\n",
    "#"
   ]
  }
 ],
 "metadata": {
  "kernelspec": {
   "display_name": "Python 3",
   "language": "python",
   "name": "python3"
  },
  "language_info": {
   "codemirror_mode": {
    "name": "ipython",
    "version": 3
   },
   "file_extension": ".py",
   "mimetype": "text/x-python",
   "name": "python",
   "nbconvert_exporter": "python",
   "pygments_lexer": "ipython3",
   "version": "3.9.13"
  }
 },
 "nbformat": 4,
 "nbformat_minor": 2
}
