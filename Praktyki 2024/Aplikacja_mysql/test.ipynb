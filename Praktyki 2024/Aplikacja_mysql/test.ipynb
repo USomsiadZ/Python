{
 "cells": [
  {
   "cell_type": "code",
   "execution_count": 7,
   "metadata": {},
   "outputs": [
    {
     "ename": "KeyError",
     "evalue": "'głowne'",
     "output_type": "error",
     "traceback": [
      "\u001b[1;31m---------------------------------------------------------------------------\u001b[0m",
      "\u001b[1;31mKeyError\u001b[0m                                  Traceback (most recent call last)",
      "Cell \u001b[1;32mIn[7], line 21\u001b[0m\n\u001b[0;32m     19\u001b[0m             cofnij_button\u001b[38;5;241m.\u001b[39mpack()\n\u001b[0;32m     20\u001b[0m menu \u001b[38;5;241m=\u001b[39m Menu()\n\u001b[1;32m---> 21\u001b[0m \u001b[43mmenu\u001b[49m\u001b[38;5;241;43m.\u001b[39;49m\u001b[43mswitch_menu\u001b[49m\u001b[43m(\u001b[49m\u001b[38;5;124;43m'\u001b[39;49m\u001b[38;5;124;43mgłowne\u001b[39;49m\u001b[38;5;124;43m'\u001b[39;49m\u001b[43m)\u001b[49m\n\u001b[0;32m     22\u001b[0m root\u001b[38;5;241m.\u001b[39mmainloop()\n",
      "Cell \u001b[1;32mIn[7], line 14\u001b[0m, in \u001b[0;36mMenu.switch_menu\u001b[1;34m(self, menu_name)\u001b[0m\n\u001b[0;32m     13\u001b[0m \u001b[38;5;28;01mdef\u001b[39;00m \u001b[38;5;21mswitch_menu\u001b[39m(\u001b[38;5;28mself\u001b[39m, menu_name):\n\u001b[1;32m---> 14\u001b[0m     menu \u001b[38;5;241m=\u001b[39m \u001b[38;5;28;43mself\u001b[39;49m\u001b[38;5;241;43m.\u001b[39;49m\u001b[43mmenu_data\u001b[49m\u001b[43m[\u001b[49m\u001b[43mmenu_name\u001b[49m\u001b[43m]\u001b[49m\n\u001b[0;32m     15\u001b[0m     \u001b[38;5;28mself\u001b[39m\u001b[38;5;241m.\u001b[39mforget_all_widgets()\n\u001b[0;32m     16\u001b[0m     \u001b[38;5;28mself\u001b[39m\u001b[38;5;241m.\u001b[39mpack_widgets(\u001b[38;5;241m*\u001b[39mmenu[\u001b[38;5;124m'\u001b[39m\u001b[38;5;124mwidgets\u001b[39m\u001b[38;5;124m'\u001b[39m])\n",
      "\u001b[1;31mKeyError\u001b[0m: 'głowne'"
     ]
    }
   ],
   "source": [
    "import tkinter as tk\n",
    "import json\n",
    "root = tk.Tk()\n",
    "root.geometry(\"800x600\")\n",
    "root.title(\"Menu\")\n",
    "\n",
    "class Menu:\n",
    "\n",
    "    def __init__(self):\n",
    "        with open('menu.json') as file:\n",
    "            self.menu_data = json.load(file)\n",
    "\n",
    "    def switch_menu(self, menu_name):\n",
    "        menu = self.menu_data[menu_name]\n",
    "        self.forget_all_widgets()\n",
    "        self.pack_widgets(*menu['widgets'])\n",
    "        if 'cofnij' in menu:\n",
    "            cofnij_button = self.create_cofnij_button(menu['cofnij'])\n",
    "            cofnij_button.pack()\n",
    "menu = Menu()\n",
    "menu.switch_menu('glowne')\n",
    "root.mainloop()"
   ]
  }
 ],
 "metadata": {
  "kernelspec": {
   "display_name": "Python 3",
   "language": "python",
   "name": "python3"
  },
  "language_info": {
   "codemirror_mode": {
    "name": "ipython",
    "version": 3
   },
   "file_extension": ".py",
   "mimetype": "text/x-python",
   "name": "python",
   "nbconvert_exporter": "python",
   "pygments_lexer": "ipython3",
   "version": "3.9.13"
  }
 },
 "nbformat": 4,
 "nbformat_minor": 2
}
