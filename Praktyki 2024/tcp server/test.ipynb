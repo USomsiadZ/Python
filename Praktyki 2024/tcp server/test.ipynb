{
 "cells": [
  {
   "cell_type": "code",
   "execution_count": 8,
   "metadata": {},
   "outputs": [
    {
     "name": "stdout",
     "output_type": "stream",
     "text": [
      "Sent:     --f=c:\\Users\\xxx\\AppData\\Roaming\\jupyter\\runtime\\kernel-v2-11124vra5xUhg225V.json\n",
      "Received: --F=C:\\USERS\\XXX\\APPDATA\\ROAMING\\JUPYTER\\RUNTIME\\KERNEL-V2-11124VRA5XUHG225V.JSON\n"
     ]
    }
   ],
   "source": [
    "import socket\n",
    "import sys\n",
    "\n",
    "HOST, PORT = \"10.2.1.63\", 8555\n",
    "data = \" \".join(sys.argv[1:])\n",
    "\n",
    "# Create a socket (SOCK_STREAM means a TCP socket)\n",
    "with socket.socket(socket.AF_INET, socket.SOCK_STREAM) as sock:\n",
    "    # Connect to server and send data\n",
    "    sock.connect((HOST, PORT))\n",
    "    sock.sendall(bytes(data + \"\\n\", \"utf-8\"))\n",
    "\n",
    "    # Receive data from the server and shut down\n",
    "    received = str(sock.recv(1024), \"utf-8\")\n",
    "\n",
    "print(\"Sent:     {}\".format(data))"
   ]
  },
  {
   "cell_type": "code",
   "execution_count": 1,
   "metadata": {},
   "outputs": [
    {
     "ename": "KeyboardInterrupt",
     "evalue": "",
     "output_type": "error",
     "traceback": [
      "\u001b[1;31m---------------------------------------------------------------------------\u001b[0m",
      "\u001b[1;31mKeyboardInterrupt\u001b[0m                         Traceback (most recent call last)",
      "Cell \u001b[1;32mIn[1], line 8\u001b[0m\n\u001b[0;32m      6\u001b[0m \u001b[38;5;66;03m# teraz możemy kontynuować wykonywanie głównego skryptu Pythona, podczas gdy tcp.py nadal działa w tle\u001b[39;00m\n\u001b[0;32m      7\u001b[0m \u001b[38;5;28;01mwhile\u001b[39;00m \u001b[38;5;28;01mTrue\u001b[39;00m:\n\u001b[1;32m----> 8\u001b[0m     \u001b[38;5;28;01mpass\u001b[39;00m\n",
      "\u001b[1;31mKeyboardInterrupt\u001b[0m: "
     ]
    },
    {
     "ename": "",
     "evalue": "",
     "output_type": "error",
     "traceback": [
      "\u001b[1;31mThe Kernel crashed while executing code in the current cell or a previous cell. \n",
      "\u001b[1;31mPlease review the code in the cell(s) to identify a possible cause of the failure. \n",
      "\u001b[1;31mClick <a href='https://aka.ms/vscodeJupyterKernelCrash'>here</a> for more info. \n",
      "\u001b[1;31mView Jupyter <a href='command:jupyter.viewOutput'>log</a> for further details."
     ]
    }
   ],
   "source": [
    "import subprocess\n",
    "\n",
    "subprocess.call([\"python\", \"C:\\\\Users\\\\xxx\\\\programid\\\\Users\\\\xxx\\Baza danych\\\\python\\\\Praktyki 2024\\\\tcp server\\\\tcp.py\"], shell=True)\n",
    "\n",
    "\n",
    "# teraz możemy kontynuować wykonywanie głównego skryptu Pythona, podczas gdy tcp.py nadal działa w tle\n",
    "while True:\n",
    "    pass"
   ]
  }
 ],
 "metadata": {
  "kernelspec": {
   "display_name": "Python 3",
   "language": "python",
   "name": "python3"
  },
  "language_info": {
   "codemirror_mode": {
    "name": "ipython",
    "version": 3
   },
   "file_extension": ".py",
   "mimetype": "text/x-python",
   "name": "python",
   "nbconvert_exporter": "python",
   "pygments_lexer": "ipython3",
   "version": "3.9.0"
  }
 },
 "nbformat": 4,
 "nbformat_minor": 2
}
